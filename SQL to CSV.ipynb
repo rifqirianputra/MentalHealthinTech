{
 "metadata": {
  "language_info": {
   "codemirror_mode": {
    "name": "ipython",
    "version": 3
   },
   "file_extension": ".py",
   "mimetype": "text/x-python",
   "name": "python",
   "nbconvert_exporter": "python",
   "pygments_lexer": "ipython3",
   "version": "3.9.0-final"
  },
  "orig_nbformat": 2,
  "kernelspec": {
   "name": "Python 3.9.0 64-bit",
   "display_name": "Python 3.9.0 64-bit",
   "metadata": {
    "interpreter": {
     "hash": "7812ea015bdcee6f23a998adcdd2ef97c151c0c241b7b7070987d9313e41299d"
    }
   }
  }
 },
 "nbformat": 4,
 "nbformat_minor": 2,
 "cells": [
  {
   "source": [
    "*Package Import*"
   ],
   "cell_type": "markdown",
   "metadata": {}
  },
  {
   "cell_type": "code",
   "execution_count": 1,
   "metadata": {},
   "outputs": [],
   "source": [
    "import pandas as pd\n",
    "import matplotlib.pyplot as plt\n",
    "import sqlite3 as sql\n",
    "import seaborn as sns\n",
    "from sqlite3 import Error"
   ]
  },
  {
   "cell_type": "code",
   "execution_count": 2,
   "metadata": {},
   "outputs": [],
   "source": [
    "con = sql.connect('mental_health.sqlite')\n",
    "cursorObj = con.cursor()"
   ]
  },
  {
   "cell_type": "code",
   "execution_count": 3,
   "metadata": {},
   "outputs": [
    {
     "output_type": "stream",
     "name": "stdout",
     "text": [
      "success\n"
     ]
    }
   ],
   "source": [
    "def sql_connection():\n",
    "    try:\n",
    "        connect = sql.connect (':memory:')\n",
    "        print('success')\n",
    "    except Error:\n",
    "        print(Error)\n",
    "    finally:\n",
    "        connect.close()\n",
    "sql_connection()"
   ]
  },
  {
   "source": [
    "Viewing all tables"
   ],
   "cell_type": "markdown",
   "metadata": {}
  },
  {
   "cell_type": "code",
   "execution_count": 4,
   "metadata": {},
   "outputs": [
    {
     "output_type": "execute_result",
     "data": {
      "text/plain": [
       "    type      name  tbl_name  rootpage  \\\n",
       "0  table    Answer    Answer         2   \n",
       "1  table  Question  Question      1434   \n",
       "2  table    Survey    Survey      1438   \n",
       "\n",
       "                                                 sql  \n",
       "0  CREATE TABLE \"Answer\" (\\n\\t\"AnswerText\" VARCHA...  \n",
       "1  CREATE TABLE \"Question\" (\\n\\t\"questiontext\" VA...  \n",
       "2  CREATE TABLE \"Survey\" (\\n\\t\"SurveyID\" INTEGER ...  "
      ],
      "text/html": "<div>\n<style scoped>\n    .dataframe tbody tr th:only-of-type {\n        vertical-align: middle;\n    }\n\n    .dataframe tbody tr th {\n        vertical-align: top;\n    }\n\n    .dataframe thead th {\n        text-align: right;\n    }\n</style>\n<table border=\"1\" class=\"dataframe\">\n  <thead>\n    <tr style=\"text-align: right;\">\n      <th></th>\n      <th>type</th>\n      <th>name</th>\n      <th>tbl_name</th>\n      <th>rootpage</th>\n      <th>sql</th>\n    </tr>\n  </thead>\n  <tbody>\n    <tr>\n      <th>0</th>\n      <td>table</td>\n      <td>Answer</td>\n      <td>Answer</td>\n      <td>2</td>\n      <td>CREATE TABLE \"Answer\" (\\n\\t\"AnswerText\" VARCHA...</td>\n    </tr>\n    <tr>\n      <th>1</th>\n      <td>table</td>\n      <td>Question</td>\n      <td>Question</td>\n      <td>1434</td>\n      <td>CREATE TABLE \"Question\" (\\n\\t\"questiontext\" VA...</td>\n    </tr>\n    <tr>\n      <th>2</th>\n      <td>table</td>\n      <td>Survey</td>\n      <td>Survey</td>\n      <td>1438</td>\n      <td>CREATE TABLE \"Survey\" (\\n\\t\"SurveyID\" INTEGER ...</td>\n    </tr>\n  </tbody>\n</table>\n</div>"
     },
     "metadata": {},
     "execution_count": 4
    }
   ],
   "source": [
    "query = \"SELECT * from sqlite_master;\"\n",
    "\n",
    "dfmaster = pd.read_sql(sql=query, con=con)\n",
    "dfmaster.head()"
   ]
  },
  {
   "cell_type": "code",
   "execution_count": 5,
   "metadata": {},
   "outputs": [
    {
     "output_type": "execute_result",
     "data": {
      "text/plain": [
       "   SurveyID                    Description\n",
       "0      2014  mental health survey for 2014\n",
       "1      2016  mental health survey for 2016\n",
       "2      2017  mental health survey for 2017\n",
       "3      2018  mental health survey for 2018\n",
       "4      2019  mental health survey for 2019"
      ],
      "text/html": "<div>\n<style scoped>\n    .dataframe tbody tr th:only-of-type {\n        vertical-align: middle;\n    }\n\n    .dataframe tbody tr th {\n        vertical-align: top;\n    }\n\n    .dataframe thead th {\n        text-align: right;\n    }\n</style>\n<table border=\"1\" class=\"dataframe\">\n  <thead>\n    <tr style=\"text-align: right;\">\n      <th></th>\n      <th>SurveyID</th>\n      <th>Description</th>\n    </tr>\n  </thead>\n  <tbody>\n    <tr>\n      <th>0</th>\n      <td>2014</td>\n      <td>mental health survey for 2014</td>\n    </tr>\n    <tr>\n      <th>1</th>\n      <td>2016</td>\n      <td>mental health survey for 2016</td>\n    </tr>\n    <tr>\n      <th>2</th>\n      <td>2017</td>\n      <td>mental health survey for 2017</td>\n    </tr>\n    <tr>\n      <th>3</th>\n      <td>2018</td>\n      <td>mental health survey for 2018</td>\n    </tr>\n    <tr>\n      <th>4</th>\n      <td>2019</td>\n      <td>mental health survey for 2019</td>\n    </tr>\n  </tbody>\n</table>\n</div>"
     },
     "metadata": {},
     "execution_count": 5
    }
   ],
   "source": [
    "query = \"SELECT * from Survey;\"\n",
    "\n",
    "dfsurvey = pd.read_sql(sql=query, con=con)\n",
    "dfsurvey"
   ]
  },
  {
   "cell_type": "code",
   "execution_count": 6,
   "metadata": {},
   "outputs": [
    {
     "output_type": "execute_result",
     "data": {
      "text/plain": [
       "                                          questiontext  questionid\n",
       "0                                    What is your age?           1\n",
       "1                                 What is your gender?           2\n",
       "2                         What country do you live in?           3\n",
       "3    If you live in the United States, which state ...           4\n",
       "4                               Are you self-employed?           5\n",
       "..                                                 ...         ...\n",
       "100  Do you think that team members/co-workers woul...         114\n",
       "101  If yes, what condition(s) have you been diagno...         115\n",
       "102  If maybe, what condition(s) do you believe you...         116\n",
       "103  Which of the following best describes your wor...         117\n",
       "104                              Do you work remotely?         118\n",
       "\n",
       "[105 rows x 2 columns]"
      ],
      "text/html": "<div>\n<style scoped>\n    .dataframe tbody tr th:only-of-type {\n        vertical-align: middle;\n    }\n\n    .dataframe tbody tr th {\n        vertical-align: top;\n    }\n\n    .dataframe thead th {\n        text-align: right;\n    }\n</style>\n<table border=\"1\" class=\"dataframe\">\n  <thead>\n    <tr style=\"text-align: right;\">\n      <th></th>\n      <th>questiontext</th>\n      <th>questionid</th>\n    </tr>\n  </thead>\n  <tbody>\n    <tr>\n      <th>0</th>\n      <td>What is your age?</td>\n      <td>1</td>\n    </tr>\n    <tr>\n      <th>1</th>\n      <td>What is your gender?</td>\n      <td>2</td>\n    </tr>\n    <tr>\n      <th>2</th>\n      <td>What country do you live in?</td>\n      <td>3</td>\n    </tr>\n    <tr>\n      <th>3</th>\n      <td>If you live in the United States, which state ...</td>\n      <td>4</td>\n    </tr>\n    <tr>\n      <th>4</th>\n      <td>Are you self-employed?</td>\n      <td>5</td>\n    </tr>\n    <tr>\n      <th>...</th>\n      <td>...</td>\n      <td>...</td>\n    </tr>\n    <tr>\n      <th>100</th>\n      <td>Do you think that team members/co-workers woul...</td>\n      <td>114</td>\n    </tr>\n    <tr>\n      <th>101</th>\n      <td>If yes, what condition(s) have you been diagno...</td>\n      <td>115</td>\n    </tr>\n    <tr>\n      <th>102</th>\n      <td>If maybe, what condition(s) do you believe you...</td>\n      <td>116</td>\n    </tr>\n    <tr>\n      <th>103</th>\n      <td>Which of the following best describes your wor...</td>\n      <td>117</td>\n    </tr>\n    <tr>\n      <th>104</th>\n      <td>Do you work remotely?</td>\n      <td>118</td>\n    </tr>\n  </tbody>\n</table>\n<p>105 rows × 2 columns</p>\n</div>"
     },
     "metadata": {},
     "execution_count": 6
    }
   ],
   "source": [
    "query = \"SELECT * from Question;\"\n",
    "\n",
    "dfquest = pd.read_sql(sql=query, con=con)\n",
    "dfquest"
   ]
  },
  {
   "cell_type": "code",
   "execution_count": 7,
   "metadata": {},
   "outputs": [
    {
     "output_type": "execute_result",
     "data": {
      "text/plain": [
       "                AnswerText  SurveyID  UserID  QuestionID\n",
       "0                       37      2014       1           1\n",
       "1                       44      2014       2           1\n",
       "2                       32      2014       3           1\n",
       "3                       31      2014       4           1\n",
       "4                       31      2014       5           1\n",
       "...                    ...       ...     ...         ...\n",
       "236893               Other      2016    2689         117\n",
       "236894             Support      2016    2690         117\n",
       "236895  Back-end Developer      2016    2691         117\n",
       "236896     DevOps/SysAdmin      2016    2692         117\n",
       "236897               Other      2016    2693         117\n",
       "\n",
       "[236898 rows x 4 columns]"
      ],
      "text/html": "<div>\n<style scoped>\n    .dataframe tbody tr th:only-of-type {\n        vertical-align: middle;\n    }\n\n    .dataframe tbody tr th {\n        vertical-align: top;\n    }\n\n    .dataframe thead th {\n        text-align: right;\n    }\n</style>\n<table border=\"1\" class=\"dataframe\">\n  <thead>\n    <tr style=\"text-align: right;\">\n      <th></th>\n      <th>AnswerText</th>\n      <th>SurveyID</th>\n      <th>UserID</th>\n      <th>QuestionID</th>\n    </tr>\n  </thead>\n  <tbody>\n    <tr>\n      <th>0</th>\n      <td>37</td>\n      <td>2014</td>\n      <td>1</td>\n      <td>1</td>\n    </tr>\n    <tr>\n      <th>1</th>\n      <td>44</td>\n      <td>2014</td>\n      <td>2</td>\n      <td>1</td>\n    </tr>\n    <tr>\n      <th>2</th>\n      <td>32</td>\n      <td>2014</td>\n      <td>3</td>\n      <td>1</td>\n    </tr>\n    <tr>\n      <th>3</th>\n      <td>31</td>\n      <td>2014</td>\n      <td>4</td>\n      <td>1</td>\n    </tr>\n    <tr>\n      <th>4</th>\n      <td>31</td>\n      <td>2014</td>\n      <td>5</td>\n      <td>1</td>\n    </tr>\n    <tr>\n      <th>...</th>\n      <td>...</td>\n      <td>...</td>\n      <td>...</td>\n      <td>...</td>\n    </tr>\n    <tr>\n      <th>236893</th>\n      <td>Other</td>\n      <td>2016</td>\n      <td>2689</td>\n      <td>117</td>\n    </tr>\n    <tr>\n      <th>236894</th>\n      <td>Support</td>\n      <td>2016</td>\n      <td>2690</td>\n      <td>117</td>\n    </tr>\n    <tr>\n      <th>236895</th>\n      <td>Back-end Developer</td>\n      <td>2016</td>\n      <td>2691</td>\n      <td>117</td>\n    </tr>\n    <tr>\n      <th>236896</th>\n      <td>DevOps/SysAdmin</td>\n      <td>2016</td>\n      <td>2692</td>\n      <td>117</td>\n    </tr>\n    <tr>\n      <th>236897</th>\n      <td>Other</td>\n      <td>2016</td>\n      <td>2693</td>\n      <td>117</td>\n    </tr>\n  </tbody>\n</table>\n<p>236898 rows × 4 columns</p>\n</div>"
     },
     "metadata": {},
     "execution_count": 7
    }
   ],
   "source": [
    "query = \"SELECT * from Answer;\"\n",
    "\n",
    "dfans = pd.read_sql(sql=query, con=con)\n",
    "dfans"
   ]
  },
  {
   "source": [
    "Joining all relevant tables"
   ],
   "cell_type": "markdown",
   "metadata": {}
  },
  {
   "cell_type": "code",
   "execution_count": 8,
   "metadata": {},
   "outputs": [
    {
     "output_type": "execute_result",
     "data": {
      "text/plain": [
       "        SurveyID  UserID  QuestionID  \\\n",
       "0           2014       1           1   \n",
       "1           2014       2           1   \n",
       "2           2014       3           1   \n",
       "3           2014       4           1   \n",
       "4           2014       5           1   \n",
       "...          ...     ...         ...   \n",
       "236893      2016    2689         117   \n",
       "236894      2016    2690         117   \n",
       "236895      2016    2691         117   \n",
       "236896      2016    2692         117   \n",
       "236897      2016    2693         117   \n",
       "\n",
       "                                             questiontext          AnswerText  \n",
       "0                                       What is your age?                  37  \n",
       "1                                       What is your age?                  44  \n",
       "2                                       What is your age?                  32  \n",
       "3                                       What is your age?                  31  \n",
       "4                                       What is your age?                  31  \n",
       "...                                                   ...                 ...  \n",
       "236893  Which of the following best describes your wor...               Other  \n",
       "236894  Which of the following best describes your wor...             Support  \n",
       "236895  Which of the following best describes your wor...  Back-end Developer  \n",
       "236896  Which of the following best describes your wor...     DevOps/SysAdmin  \n",
       "236897  Which of the following best describes your wor...               Other  \n",
       "\n",
       "[236898 rows x 5 columns]"
      ],
      "text/html": "<div>\n<style scoped>\n    .dataframe tbody tr th:only-of-type {\n        vertical-align: middle;\n    }\n\n    .dataframe tbody tr th {\n        vertical-align: top;\n    }\n\n    .dataframe thead th {\n        text-align: right;\n    }\n</style>\n<table border=\"1\" class=\"dataframe\">\n  <thead>\n    <tr style=\"text-align: right;\">\n      <th></th>\n      <th>SurveyID</th>\n      <th>UserID</th>\n      <th>QuestionID</th>\n      <th>questiontext</th>\n      <th>AnswerText</th>\n    </tr>\n  </thead>\n  <tbody>\n    <tr>\n      <th>0</th>\n      <td>2014</td>\n      <td>1</td>\n      <td>1</td>\n      <td>What is your age?</td>\n      <td>37</td>\n    </tr>\n    <tr>\n      <th>1</th>\n      <td>2014</td>\n      <td>2</td>\n      <td>1</td>\n      <td>What is your age?</td>\n      <td>44</td>\n    </tr>\n    <tr>\n      <th>2</th>\n      <td>2014</td>\n      <td>3</td>\n      <td>1</td>\n      <td>What is your age?</td>\n      <td>32</td>\n    </tr>\n    <tr>\n      <th>3</th>\n      <td>2014</td>\n      <td>4</td>\n      <td>1</td>\n      <td>What is your age?</td>\n      <td>31</td>\n    </tr>\n    <tr>\n      <th>4</th>\n      <td>2014</td>\n      <td>5</td>\n      <td>1</td>\n      <td>What is your age?</td>\n      <td>31</td>\n    </tr>\n    <tr>\n      <th>...</th>\n      <td>...</td>\n      <td>...</td>\n      <td>...</td>\n      <td>...</td>\n      <td>...</td>\n    </tr>\n    <tr>\n      <th>236893</th>\n      <td>2016</td>\n      <td>2689</td>\n      <td>117</td>\n      <td>Which of the following best describes your wor...</td>\n      <td>Other</td>\n    </tr>\n    <tr>\n      <th>236894</th>\n      <td>2016</td>\n      <td>2690</td>\n      <td>117</td>\n      <td>Which of the following best describes your wor...</td>\n      <td>Support</td>\n    </tr>\n    <tr>\n      <th>236895</th>\n      <td>2016</td>\n      <td>2691</td>\n      <td>117</td>\n      <td>Which of the following best describes your wor...</td>\n      <td>Back-end Developer</td>\n    </tr>\n    <tr>\n      <th>236896</th>\n      <td>2016</td>\n      <td>2692</td>\n      <td>117</td>\n      <td>Which of the following best describes your wor...</td>\n      <td>DevOps/SysAdmin</td>\n    </tr>\n    <tr>\n      <th>236897</th>\n      <td>2016</td>\n      <td>2693</td>\n      <td>117</td>\n      <td>Which of the following best describes your wor...</td>\n      <td>Other</td>\n    </tr>\n  </tbody>\n</table>\n<p>236898 rows × 5 columns</p>\n</div>"
     },
     "metadata": {},
     "execution_count": 8
    }
   ],
   "source": [
    "query = \"SELECT Answer.SurveyID, Answer.UserID, Answer.QuestionID, Question.questiontext, Answer.AnswerText from Answer join Question on Answer.QuestionID=Question.questionid;\"\n",
    "\n",
    "df = pd.read_sql(sql=query, con=con)\n",
    "df"
   ]
  },
  {
   "source": [
    "viewing all questions of the survey"
   ],
   "cell_type": "markdown",
   "metadata": {}
  },
  {
   "cell_type": "code",
   "execution_count": 33,
   "metadata": {},
   "outputs": [
    {
     "output_type": "execute_result",
     "data": {
      "text/plain": [
       "array(['What is your age?', 'What is your gender?',\n",
       "       'What country do you live in?',\n",
       "       'If you live in the United States, which state or territory do you live in?',\n",
       "       'Are you self-employed?',\n",
       "       'Do you have a family history of mental illness?',\n",
       "       'Have you ever sought treatment for a mental health disorder from a mental health professional?',\n",
       "       'How many employees does your company or organization have?',\n",
       "       'Is your employer primarily a tech company/organization?',\n",
       "       'Does your employer provide mental health benefits as part of healthcare coverage?',\n",
       "       'Is your anonymity protected if you choose to take advantage of mental health or substance abuse treatment resources provided by your employer?',\n",
       "       'Would you bring up a mental health issue with a potential employer in an interview?',\n",
       "       'Do you think that discussing a physical health issue with your employer would have negative consequences?',\n",
       "       'Do you feel that your employer takes mental health as seriously as physical health?',\n",
       "       'If you have a mental health condition, do you feel that it interferes with your work?',\n",
       "       'Do you work remotely (outside of an office) at least 50% of the time?',\n",
       "       'Do you know the options for mental health care your employer provides?',\n",
       "       'Has your employer ever discussed mental health as part of an employee wellness program?',\n",
       "       'Does your employer provide resources to learn more about mental health issues and how to seek help?',\n",
       "       'How easy is it for you to take medical leave for a mental health condition?',\n",
       "       'Do you think that discussing a mental health issue with your employer would have negative consequences?',\n",
       "       'Would you be willing to discuss a mental health issue with your coworkers?',\n",
       "       'Would you be willing to discuss a mental health issue with your direct supervisor(s)?',\n",
       "       'Would you bring up a physical health issue with a potential employer in an interview?',\n",
       "       'Have you heard of or observed negative consequences for coworkers with mental health conditions in your workplace?',\n",
       "       'Any additional notes or comments',\n",
       "       'Is your primary role within your company related to tech/IT?',\n",
       "       'Do you know the options for mental health care available under your employer-provided health coverage?',\n",
       "       'Has your employer ever formally discussed mental health (for example, as part of a wellness campaign or other official communication)?',\n",
       "       'Does your employer offer resources to learn more about mental health disorders and options for seeking help?',\n",
       "       'If a mental health issue prompted you to request a medical leave from work, how easy or difficult would it be to ask for that leave?',\n",
       "       'Would you feel comfortable discussing a mental health issue with your coworkers?',\n",
       "       'Would you feel comfortable discussing a mental health issue with your direct supervisor(s)?',\n",
       "       'Do you have medical coverage (private insurance or state-provided) that includes treatment of mental health disorders?',\n",
       "       'Do you know local or online resources to seek help for a mental health issue?',\n",
       "       'Do you have previous employers?',\n",
       "       'Have your previous employers provided mental health benefits?',\n",
       "       'Were you aware of the options for mental health care provided by your previous employers?',\n",
       "       'Did your previous employers ever formally discuss mental health (as part of a wellness campaign or other official communication)?',\n",
       "       'Did your previous employers provide resources to learn more about mental health disorders and how to seek help?',\n",
       "       'Was your anonymity protected if you chose to take advantage of mental health or substance abuse treatment resources with previous employers?',\n",
       "       'Would you have been willing to discuss your mental health with your direct supervisor(s)?',\n",
       "       'Would you be willing to bring up a physical health issue with a potential employer in an interview?',\n",
       "       'How willing would you be to share with friends and family that you have a mental illness?',\n",
       "       'Have your observations of how another individual who discussed a mental health disorder made you less likely to reveal a mental health issue yourself in your current workplace?',\n",
       "       'Have you had a mental health disorder in the past?',\n",
       "       'Do you currently have a mental health disorder?',\n",
       "       'Have you ever been diagnosed with a mental health disorder?',\n",
       "       'If you have a mental health disorder, how often do you feel that it interferes with your work when being treated effectively?',\n",
       "       'If you have a mental health disorder, how often do you feel that it interferes with your work when not being treated effectively (i.e., when you are experiencing symptoms)?',\n",
       "       'What country do you work in?',\n",
       "       'What US state or territory do you work in?',\n",
       "       'If you have been diagnosed or treated for a mental health disorder, do you ever reveal this to clients or business contacts?',\n",
       "       'If you have been diagnosed or treated for a mental health disorder, do you ever reveal this to coworkers or employees?',\n",
       "       'Do you believe your productivity is ever affected by a mental health issue?',\n",
       "       'If yes, what percentage of your work time (time performing primary or secondary job functions) is affected by a mental health issue?',\n",
       "       'Have you observed or experienced an unsupportive or badly handled response to a mental health issue in your current or previous workplace?',\n",
       "       'Do you think that discussing a mental health disorder with your employer would have negative consequences?',\n",
       "       'Have you heard of or observed negative consequences for co-workers who have been open about mental health issues in your workplace?',\n",
       "       'If you have revealed a mental health issue to a client or business contact, do you believe this has impacted you negatively?',\n",
       "       'If you have revealed a mental health issue to a coworker or employee, do you believe this has impacted you negatively?',\n",
       "       'Do you think that discussing a mental health disorder with previous employers would have negative consequences?',\n",
       "       'Do you think that discussing a physical health issue with previous employers would have negative consequences?',\n",
       "       'Would you have been willing to discuss a mental health issue with your previous co-workers?',\n",
       "       'Did you feel that your previous employers took mental health as seriously as physical health?',\n",
       "       'Did you hear of or observe negative consequences for co-workers with mental health issues in your previous workplaces?',\n",
       "       'Do you feel that being identified as a person with a mental health issue would hurt your career?',\n",
       "       'Do you think that team members/co-workers would view you more negatively if they knew you suffered from a mental health issue?',\n",
       "       'Do you work remotely?',\n",
       "       'Would you feel more comfortable talking to your coworkers about your physical health or your mental health?',\n",
       "       'Have you ever discussed your mental health with your employer?',\n",
       "       'Describe the conversation you had with your employer about your mental health, including their reactions and what actions were taken to address your mental health issue/questions.',\n",
       "       'Have you ever discussed your mental health with coworkers?',\n",
       "       'Describe the conversation with coworkers you had about your mental health including their reactions.',\n",
       "       \"Have you ever had a coworker discuss their or another coworker's mental health with you?\",\n",
       "       'Describe the conversation your coworker had with you about their mental health (please do not use names).',\n",
       "       'Overall, how much importance does your employer place on physical health?',\n",
       "       'Overall, how much importance does your employer place on mental health?',\n",
       "       'If you have revealed a mental health disorder to a client or business contact, how has this affected you or the relationship?',\n",
       "       'If you have revealed a mental health disorder to a coworker or employee, how has this impacted you or the relationship?',\n",
       "       'Was your employer primarily a tech company/organization?',\n",
       "       'Would you have felt more comfortable talking to your previous employer about your physical health or your mental health?',\n",
       "       'Did you ever discuss your mental health with your previous employer?',\n",
       "       'Describe the conversation you had with your previous employer about your mental health, including their reactions and actions taken to address your mental health issue/questions.',\n",
       "       'Did you ever discuss your mental health with a previous coworker(s)?',\n",
       "       'Describe the conversation you had with your previous coworkers about your mental health including their reactions.',\n",
       "       \"Did you ever have a previous coworker discuss their or another coworker's mental health with you?\",\n",
       "       'Describe the conversation your coworker had with you about their mental health (please do not use names)..1',\n",
       "       'Overall, how much importance did your previous employer place on physical health?',\n",
       "       'Overall, how much importance did your previous employer place on mental health?',\n",
       "       'Are you openly identified at work as a person with a mental health issue?',\n",
       "       'Has being identified as a person with a mental health issue affected your career?',\n",
       "       'How has it affected your career?',\n",
       "       'If they knew you suffered from a mental health disorder, how do you think that your team members/co-workers would react?',\n",
       "       'Describe the circumstances of the badly handled or unsupportive response.',\n",
       "       'Have you observed or experienced supportive or well handled response to a mental health issue in your current or previous workplace?',\n",
       "       'Describe the circumstances of the supportive or well handled response.',\n",
       "       'Overall, how well do you think the tech industry supports employees with mental health issues?',\n",
       "       'Briefly describe what you think the industry as a whole and/or employers could do to improve mental health support for employees.',\n",
       "       'If there is anything else you would like to tell us that has not been covered by the survey questions, please use this space to do so.',\n",
       "       'Would you be willing to talk to one of us more extensively about your experiences with mental health issues in the tech industry? (Note that all interview responses would be used _anonymously_ and only with your permission.)',\n",
       "       'What is your race?',\n",
       "       'If yes, what condition(s) have you been diagnosed with?',\n",
       "       'If maybe, what condition(s) do you believe you have?',\n",
       "       'Which of the following best describes your work position?'],\n",
       "      dtype=object)"
      ]
     },
     "metadata": {},
     "execution_count": 33
    }
   ],
   "source": [
    "df['questiontext'].unique()"
   ]
  },
  {
   "source": [
    "Convert to CSV for easier work"
   ],
   "cell_type": "markdown",
   "metadata": {}
  },
  {
   "cell_type": "code",
   "execution_count": 9,
   "metadata": {},
   "outputs": [
    {
     "output_type": "execute_result",
     "data": {
      "text/plain": [
       "        Unnamed: 0  SurveyID  UserID  QuestionID  \\\n",
       "0                0      2014       1           1   \n",
       "1                1      2014       2           1   \n",
       "2                2      2014       3           1   \n",
       "3                3      2014       4           1   \n",
       "4                4      2014       5           1   \n",
       "...            ...       ...     ...         ...   \n",
       "236893      236893      2016    2689         117   \n",
       "236894      236894      2016    2690         117   \n",
       "236895      236895      2016    2691         117   \n",
       "236896      236896      2016    2692         117   \n",
       "236897      236897      2016    2693         117   \n",
       "\n",
       "                                             questiontext          AnswerText  \n",
       "0                                       What is your age?                  37  \n",
       "1                                       What is your age?                  44  \n",
       "2                                       What is your age?                  32  \n",
       "3                                       What is your age?                  31  \n",
       "4                                       What is your age?                  31  \n",
       "...                                                   ...                 ...  \n",
       "236893  Which of the following best describes your wor...               Other  \n",
       "236894  Which of the following best describes your wor...             Support  \n",
       "236895  Which of the following best describes your wor...  Back-end Developer  \n",
       "236896  Which of the following best describes your wor...     DevOps/SysAdmin  \n",
       "236897  Which of the following best describes your wor...               Other  \n",
       "\n",
       "[236898 rows x 6 columns]"
      ],
      "text/html": "<div>\n<style scoped>\n    .dataframe tbody tr th:only-of-type {\n        vertical-align: middle;\n    }\n\n    .dataframe tbody tr th {\n        vertical-align: top;\n    }\n\n    .dataframe thead th {\n        text-align: right;\n    }\n</style>\n<table border=\"1\" class=\"dataframe\">\n  <thead>\n    <tr style=\"text-align: right;\">\n      <th></th>\n      <th>Unnamed: 0</th>\n      <th>SurveyID</th>\n      <th>UserID</th>\n      <th>QuestionID</th>\n      <th>questiontext</th>\n      <th>AnswerText</th>\n    </tr>\n  </thead>\n  <tbody>\n    <tr>\n      <th>0</th>\n      <td>0</td>\n      <td>2014</td>\n      <td>1</td>\n      <td>1</td>\n      <td>What is your age?</td>\n      <td>37</td>\n    </tr>\n    <tr>\n      <th>1</th>\n      <td>1</td>\n      <td>2014</td>\n      <td>2</td>\n      <td>1</td>\n      <td>What is your age?</td>\n      <td>44</td>\n    </tr>\n    <tr>\n      <th>2</th>\n      <td>2</td>\n      <td>2014</td>\n      <td>3</td>\n      <td>1</td>\n      <td>What is your age?</td>\n      <td>32</td>\n    </tr>\n    <tr>\n      <th>3</th>\n      <td>3</td>\n      <td>2014</td>\n      <td>4</td>\n      <td>1</td>\n      <td>What is your age?</td>\n      <td>31</td>\n    </tr>\n    <tr>\n      <th>4</th>\n      <td>4</td>\n      <td>2014</td>\n      <td>5</td>\n      <td>1</td>\n      <td>What is your age?</td>\n      <td>31</td>\n    </tr>\n    <tr>\n      <th>...</th>\n      <td>...</td>\n      <td>...</td>\n      <td>...</td>\n      <td>...</td>\n      <td>...</td>\n      <td>...</td>\n    </tr>\n    <tr>\n      <th>236893</th>\n      <td>236893</td>\n      <td>2016</td>\n      <td>2689</td>\n      <td>117</td>\n      <td>Which of the following best describes your wor...</td>\n      <td>Other</td>\n    </tr>\n    <tr>\n      <th>236894</th>\n      <td>236894</td>\n      <td>2016</td>\n      <td>2690</td>\n      <td>117</td>\n      <td>Which of the following best describes your wor...</td>\n      <td>Support</td>\n    </tr>\n    <tr>\n      <th>236895</th>\n      <td>236895</td>\n      <td>2016</td>\n      <td>2691</td>\n      <td>117</td>\n      <td>Which of the following best describes your wor...</td>\n      <td>Back-end Developer</td>\n    </tr>\n    <tr>\n      <th>236896</th>\n      <td>236896</td>\n      <td>2016</td>\n      <td>2692</td>\n      <td>117</td>\n      <td>Which of the following best describes your wor...</td>\n      <td>DevOps/SysAdmin</td>\n    </tr>\n    <tr>\n      <th>236897</th>\n      <td>236897</td>\n      <td>2016</td>\n      <td>2693</td>\n      <td>117</td>\n      <td>Which of the following best describes your wor...</td>\n      <td>Other</td>\n    </tr>\n  </tbody>\n</table>\n<p>236898 rows × 6 columns</p>\n</div>"
     },
     "metadata": {},
     "execution_count": 9
    }
   ],
   "source": [
    "df.to_csv('Joined.csv')\n",
    "df1 = pd.read_csv('Joined.csv')\n",
    "df1"
   ]
  }
 ]
}